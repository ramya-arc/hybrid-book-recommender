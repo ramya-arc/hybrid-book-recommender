{
  "cells": [
    {
      "cell_type": "markdown",
      "metadata": {
        "id": "RByQxfesiDRv"
      },
      "source": [
        "# Import Libraries"
      ]
    },
    {
      "cell_type": "code",
      "execution_count": null,
      "metadata": {
        "colab": {
          "base_uri": "https://localhost:8080/"
        },
        "id": "cNhjhb6dShdC",
        "outputId": "a6921e47-c13b-4b00-bff1-efa0fc1e3dec"
      },
      "outputs": [
        {
          "name": "stdout",
          "output_type": "stream",
          "text": [
            "Requirement already satisfied: lightfm in /usr/local/lib/python3.10/dist-packages (1.17)\n",
            "Requirement already satisfied: numpy in /usr/local/lib/python3.10/dist-packages (from lightfm) (1.25.2)\n",
            "Requirement already satisfied: scipy>=0.17.0 in /usr/local/lib/python3.10/dist-packages (from lightfm) (1.11.4)\n",
            "Requirement already satisfied: requests in /usr/local/lib/python3.10/dist-packages (from lightfm) (2.31.0)\n",
            "Requirement already satisfied: scikit-learn in /usr/local/lib/python3.10/dist-packages (from lightfm) (1.2.2)\n",
            "Requirement already satisfied: charset-normalizer<4,>=2 in /usr/local/lib/python3.10/dist-packages (from requests->lightfm) (3.3.2)\n",
            "Requirement already satisfied: idna<4,>=2.5 in /usr/local/lib/python3.10/dist-packages (from requests->lightfm) (3.7)\n",
            "Requirement already satisfied: urllib3<3,>=1.21.1 in /usr/local/lib/python3.10/dist-packages (from requests->lightfm) (2.0.7)\n",
            "Requirement already satisfied: certifi>=2017.4.17 in /usr/local/lib/python3.10/dist-packages (from requests->lightfm) (2024.7.4)\n",
            "Requirement already satisfied: joblib>=1.1.1 in /usr/local/lib/python3.10/dist-packages (from scikit-learn->lightfm) (1.4.2)\n",
            "Requirement already satisfied: threadpoolctl>=2.0.0 in /usr/local/lib/python3.10/dist-packages (from scikit-learn->lightfm) (3.5.0)\n"
          ]
        }
      ],
      "source": [
        "import pandas as pd\n",
        "from sklearn.preprocessing import LabelEncoder\n",
        "from sklearn.feature_extraction.text import TfidfVectorizer\n",
        "from sklearn.metrics.pairwise import cosine_similarity\n",
        "import re\n",
        "from sklearn.metrics.pairwise import linear_kernel\n",
        "import numpy as np\n",
        "!pip install --upgrade lightfm\n",
        "from lightfm import LightFM\n",
        "from lightfm.data import Dataset\n",
        "from lightfm.evaluation import precision_at_k\n",
        "import scipy.sparse as sp\n",
        "from sklearn.metrics import mean_squared_error"
      ]
    },
    {
      "cell_type": "markdown",
      "metadata": {
        "id": "h35gKAlwkFPV"
      },
      "source": [
        "# Data Preprocessing"
      ]
    },
    {
      "cell_type": "markdown",
      "metadata": {
        "id": "jtiR_CWUh8Jp"
      },
      "source": [
        "Load the dataset"
      ]
    },
    {
      "cell_type": "code",
      "execution_count": null,
      "metadata": {
        "colab": {
          "base_uri": "https://localhost:8080/"
        },
        "id": "daoykrOSSsAz",
        "outputId": "34976a3c-0927-41dd-8ef6-ae236f8a5e1c"
      },
      "outputs": [
        {
          "name": "stdout",
          "output_type": "stream",
          "text": [
            "Books DataFrame:\n",
            "    id  book_id  best_book_id  work_id  books_count       isbn        isbn13  \\\n",
            "0   1  2767052       2767052  2792775          272  439023483  9.780439e+12   \n",
            "1   2        3             3  4640799          491  439554934  9.780440e+12   \n",
            "2   3    41865         41865  3212258          226  316015849  9.780316e+12   \n",
            "3   4     2657          2657  3275794          487   61120081  9.780061e+12   \n",
            "4   5     4671          4671   245494         1356  743273567  9.780743e+12   \n",
            "\n",
            "                       authors  original_publication_year  \\\n",
            "0              Suzanne Collins                     2008.0   \n",
            "1  J.K. Rowling, Mary GrandPré                     1997.0   \n",
            "2              Stephenie Meyer                     2005.0   \n",
            "3                   Harper Lee                     1960.0   \n",
            "4          F. Scott Fitzgerald                     1925.0   \n",
            "\n",
            "                             original_title  ... ratings_count  \\\n",
            "0                          The Hunger Games  ...       4780653   \n",
            "1  Harry Potter and the Philosopher's Stone  ...       4602479   \n",
            "2                                  Twilight  ...       3866839   \n",
            "3                     To Kill a Mockingbird  ...       3198671   \n",
            "4                          The Great Gatsby  ...       2683664   \n",
            "\n",
            "  work_ratings_count  work_text_reviews_count  ratings_1  ratings_2  \\\n",
            "0            4942365                   155254      66715     127936   \n",
            "1            4800065                    75867      75504     101676   \n",
            "2            3916824                    95009     456191     436802   \n",
            "3            3340896                    72586      60427     117415   \n",
            "4            2773745                    51992      86236     197621   \n",
            "\n",
            "   ratings_3  ratings_4  ratings_5  \\\n",
            "0     560092    1481305    2706317   \n",
            "1     455024    1156318    3011543   \n",
            "2     793319     875073    1355439   \n",
            "3     446835    1001952    1714267   \n",
            "4     606158     936012     947718   \n",
            "\n",
            "                                           image_url  \\\n",
            "0  https://images.gr-assets.com/books/1447303603m...   \n",
            "1  https://images.gr-assets.com/books/1474154022m...   \n",
            "2  https://images.gr-assets.com/books/1361039443m...   \n",
            "3  https://images.gr-assets.com/books/1361975680m...   \n",
            "4  https://images.gr-assets.com/books/1490528560m...   \n",
            "\n",
            "                                     small_image_url  \n",
            "0  https://images.gr-assets.com/books/1447303603s...  \n",
            "1  https://images.gr-assets.com/books/1474154022s...  \n",
            "2  https://images.gr-assets.com/books/1361039443s...  \n",
            "3  https://images.gr-assets.com/books/1361975680s...  \n",
            "4  https://images.gr-assets.com/books/1490528560s...  \n",
            "\n",
            "[5 rows x 23 columns]\n"
          ]
        }
      ],
      "source": [
        "books_df = pd.read_csv('data/books.csv')\n",
        "print(\"Books DataFrame:\\n\", books_df.head())"
      ]
    },
    {
      "cell_type": "code",
      "execution_count": null,
      "metadata": {
        "id": "3mLpnHDw-70k"
      },
      "outputs": [],
      "source": [
        "books_df['combined_features'] = books_df['title'].str.lower() + ' ' + books_df['authors'].str.lower()"
      ]
    },
    {
      "cell_type": "code",
      "execution_count": null,
      "metadata": {
        "colab": {
          "base_uri": "https://localhost:8080/"
        },
        "id": "U_sdMEd4S17p",
        "outputId": "a497b82e-d3e5-4fea-b32a-fcc19a63020f"
      },
      "outputs": [
        {
          "name": "stdout",
          "output_type": "stream",
          "text": [
            "\n",
            "Book Tags DataFrame:\n",
            "    goodreads_book_id  tag_id   count\n",
            "0                  1   30574  167697\n",
            "1                  1   11305   37174\n",
            "2                  1   11557   34173\n",
            "3                  1    8717   12986\n",
            "4                  1   33114   12716\n"
          ]
        }
      ],
      "source": [
        "book_tags_df = pd.read_csv('data/book_tags.csv')\n",
        "print(\"\\nBook Tags DataFrame:\\n\", book_tags_df.head())"
      ]
    },
    {
      "cell_type": "code",
      "execution_count": null,
      "metadata": {
        "colab": {
          "base_uri": "https://localhost:8080/"
        },
        "id": "PNCUL-w6TGE-",
        "outputId": "f556df46-94cf-4857-f672-cffa4a8df169"
      },
      "outputs": [
        {
          "name": "stdout",
          "output_type": "stream",
          "text": [
            "\n",
            "Ratings DataFrame:\n",
            "    book_id  user_id  rating\n",
            "0        1      314       5\n",
            "1        1      439       3\n",
            "2        1      588       5\n",
            "3        1     1169       4\n",
            "4        1     1185       4\n"
          ]
        }
      ],
      "source": [
        "ratings_df = pd.read_csv('data/ratings.csv')\n",
        "print(\"\\nRatings DataFrame:\\n\", ratings_df.head())"
      ]
    },
    {
      "cell_type": "code",
      "execution_count": null,
      "metadata": {
        "colab": {
          "base_uri": "https://localhost:8080/"
        },
        "id": "kNz5S4r-TTxh",
        "outputId": "854d375c-2dcd-4273-fd1d-b8ad10382453"
      },
      "outputs": [
        {
          "name": "stdout",
          "output_type": "stream",
          "text": [
            "\n",
            "Tags DataFrame:\n",
            "    tag_id tag_name\n",
            "0       0        -\n",
            "1       1     --1-\n",
            "2       2    --10-\n",
            "3       3    --12-\n",
            "4       4   --122-\n"
          ]
        }
      ],
      "source": [
        "tags_df = pd.read_csv('data/tags.csv')\n",
        "print(\"\\nTags DataFrame:\\n\", tags_df.head())"
      ]
    },
    {
      "cell_type": "code",
      "execution_count": null,
      "metadata": {
        "colab": {
          "base_uri": "https://localhost:8080/"
        },
        "id": "r8d_FpTiTtee",
        "outputId": "5485f218-6b1c-464e-caa9-2b1935e6be2d"
      },
      "outputs": [
        {
          "name": "stdout",
          "output_type": "stream",
          "text": [
            "\n",
            "To Read DataFrame:\n",
            "    user_id  book_id\n",
            "0        1      112\n",
            "1        1      235\n",
            "2        1      533\n",
            "3        1     1198\n",
            "4        1     1874\n"
          ]
        }
      ],
      "source": [
        "to_read_df = pd.read_csv('data/to_read.csv')\n",
        "print(\"\\nTo Read DataFrame:\\n\", to_read_df.head())"
      ]
    },
    {
      "cell_type": "markdown",
      "metadata": {
        "id": "s5PotJ1ihenF"
      },
      "source": [
        "Remove unnecessary columns"
      ]
    },
    {
      "cell_type": "code",
      "execution_count": null,
      "metadata": {
        "id": "Mh0caurQeAOr"
      },
      "outputs": [],
      "source": [
        "#books_df = books_df[['book_id', 'title', 'authors', 'original_publication_year']]\n",
        "\n",
        "ratings_df = ratings_df[['user_id', 'book_id', 'rating']]\n",
        "tags_df = tags_df[['tag_id', 'tag_name']]\n",
        "book_tags_df = book_tags_df[['goodreads_book_id', 'tag_id', 'count']]\n",
        "to_read_df = to_read_df[['user_id', 'book_id']]"
      ]
    },
    {
      "cell_type": "markdown",
      "metadata": {
        "id": "skAD0TGjib2c"
      },
      "source": [
        "Handling Missing Values"
      ]
    },
    {
      "cell_type": "code",
      "execution_count": null,
      "metadata": {
        "id": "XSqVhbt2iiEb"
      },
      "outputs": [],
      "source": [
        "books_df = books_df.dropna()\n",
        "ratings_df = ratings_df.dropna()\n",
        "tags_df = tags_df.dropna()\n",
        "book_tags_df = book_tags_df.dropna()\n",
        "to_read_df = to_read_df.dropna()"
      ]
    },
    {
      "cell_type": "markdown",
      "metadata": {
        "id": "CK_WicfyjvNC"
      },
      "source": [
        "Drop Duplicates"
      ]
    },
    {
      "cell_type": "code",
      "execution_count": null,
      "metadata": {
        "id": "K54ZIpwgjsnl"
      },
      "outputs": [],
      "source": [
        "books_df = books_df.drop_duplicates()\n",
        "ratings_df = ratings_df.drop_duplicates()\n",
        "tags_df = tags_df.drop_duplicates()\n",
        "book_tags_df = book_tags_df.drop_duplicates()\n",
        "to_read_df = to_read_df.drop_duplicates()"
      ]
    },
    {
      "cell_type": "markdown",
      "metadata": {
        "id": "4QXrAwXWkW0W"
      },
      "source": [
        "Convert data types if necessary"
      ]
    },
    {
      "cell_type": "code",
      "execution_count": null,
      "metadata": {
        "id": "Mc2XN0_RkTfG"
      },
      "outputs": [],
      "source": [
        "books_df['original_publication_year'] = books_df['original_publication_year'].astype(int)\n",
        "ratings_df['rating'] = ratings_df['rating'].astype(float)"
      ]
    },
    {
      "cell_type": "markdown",
      "metadata": {
        "id": "WSQfUq6aj0b6"
      },
      "source": [
        "Merge dataframes"
      ]
    },
    {
      "cell_type": "code",
      "execution_count": null,
      "metadata": {
        "colab": {
          "base_uri": "https://localhost:8080/"
        },
        "id": "lTDd5BefjDdC",
        "outputId": "1d13fba8-9904-482c-dd96-c102036b2ddd"
      },
      "outputs": [
        {
          "name": "stdout",
          "output_type": "stream",
          "text": [
            "   user_id  book_id  rating  id  best_book_id   work_id  books_count  \\\n",
            "0      314        1     5.0  27             1  41335427          275   \n",
            "1      314        1     5.0  27             1  41335427          275   \n",
            "2      314        1     5.0  27             1  41335427          275   \n",
            "3      314        1     5.0  27             1  41335427          275   \n",
            "4      314        1     5.0  27             1  41335427          275   \n",
            "\n",
            "        isbn        isbn13                      authors  ...  ratings_3  \\\n",
            "0  439785960  9.780440e+12  J.K. Rowling, Mary GrandPré  ...     136333   \n",
            "1  439785960  9.780440e+12  J.K. Rowling, Mary GrandPré  ...     136333   \n",
            "2  439785960  9.780440e+12  J.K. Rowling, Mary GrandPré  ...     136333   \n",
            "3  439785960  9.780440e+12  J.K. Rowling, Mary GrandPré  ...     136333   \n",
            "4  439785960  9.780440e+12  J.K. Rowling, Mary GrandPré  ...     136333   \n",
            "\n",
            "  ratings_4 ratings_5                                          image_url  \\\n",
            "0    459028   1161491  https://images.gr-assets.com/books/1361039191m...   \n",
            "1    459028   1161491  https://images.gr-assets.com/books/1361039191m...   \n",
            "2    459028   1161491  https://images.gr-assets.com/books/1361039191m...   \n",
            "3    459028   1161491  https://images.gr-assets.com/books/1361039191m...   \n",
            "4    459028   1161491  https://images.gr-assets.com/books/1361039191m...   \n",
            "\n",
            "                                     small_image_url  \\\n",
            "0  https://images.gr-assets.com/books/1361039191s...   \n",
            "1  https://images.gr-assets.com/books/1361039191s...   \n",
            "2  https://images.gr-assets.com/books/1361039191s...   \n",
            "3  https://images.gr-assets.com/books/1361039191s...   \n",
            "4  https://images.gr-assets.com/books/1361039191s...   \n",
            "\n",
            "                                   combined_features  goodreads_book_id  \\\n",
            "0  harry potter and the half-blood prince (harry ...                  1   \n",
            "1  harry potter and the half-blood prince (harry ...                  1   \n",
            "2  harry potter and the half-blood prince (harry ...                  1   \n",
            "3  harry potter and the half-blood prince (harry ...                  1   \n",
            "4  harry potter and the half-blood prince (harry ...                  1   \n",
            "\n",
            "   tag_id   count           tag_name  \n",
            "0   30574  167697            to-read  \n",
            "1   11305   37174            fantasy  \n",
            "2   11557   34173          favorites  \n",
            "3    8717   12986  currently-reading  \n",
            "4   33114   12716        young-adult  \n",
            "\n",
            "[5 rows x 30 columns]\n"
          ]
        }
      ],
      "source": [
        "booktags_with_names_df = pd.merge(book_tags_df, tags_df, on='tag_id')\n",
        "merged_df = pd.merge(ratings_df, books_df, on='book_id')\n",
        "merged_df = pd.merge(merged_df, booktags_with_names_df, left_on='book_id', right_on='goodreads_book_id', how='left')\n",
        "\n",
        "print(merged_df.head())"
      ]
    },
    {
      "cell_type": "markdown",
      "metadata": {
        "id": "58sbmMu-p4vm"
      },
      "source": [
        "Encoding"
      ]
    },
    {
      "cell_type": "code",
      "execution_count": null,
      "metadata": {
        "id": "Gq1dD7ODptgi"
      },
      "outputs": [],
      "source": [
        "label_encoder = LabelEncoder()\n",
        "merged_df['authors'] = label_encoder.fit_transform(merged_df['authors'])\n",
        "merged_df['tag_name'] = label_encoder.fit_transform(merged_df['tag_name'].astype(str))"
      ]
    },
    {
      "cell_type": "markdown",
      "metadata": {
        "id": "A-EqB7p5p7LO"
      },
      "source": [
        "Normalization"
      ]
    },
    {
      "cell_type": "code",
      "execution_count": null,
      "metadata": {
        "id": "UnPJBgofqFsS"
      },
      "outputs": [],
      "source": [
        "merged_df['rating'] = merged_df['rating'].astype(float)"
      ]
    },
    {
      "cell_type": "markdown",
      "metadata": {
        "id": "YBWwRrL2qR0J"
      },
      "source": [
        "Create a user-item matrix"
      ]
    },
    {
      "cell_type": "code",
      "execution_count": null,
      "metadata": {
        "colab": {
          "base_uri": "https://localhost:8080/"
        },
        "id": "r8EpXiqHqQzo",
        "outputId": "4ab39b1b-9b92-4803-ad83-7f5b976f396c"
      },
      "outputs": [
        {
          "name": "stdout",
          "output_type": "stream",
          "text": [
            "book_id  1     2     3     5     6     10    11    13    21    24    ...  \\\n",
            "user_id                                                              ...   \n",
            "3         NaN   NaN   NaN   NaN   NaN   NaN   NaN   NaN   NaN   NaN  ...   \n",
            "4         NaN   NaN   NaN   NaN   NaN   NaN   NaN   NaN   NaN   NaN  ...   \n",
            "7         NaN   NaN   NaN   NaN   NaN   NaN   NaN   NaN   NaN   NaN  ...   \n",
            "10        NaN   NaN   NaN   NaN   NaN   NaN   NaN   NaN   NaN   NaN  ...   \n",
            "11        NaN   NaN   NaN   NaN   NaN   NaN   NaN   NaN   NaN   NaN  ...   \n",
            "\n",
            "book_id  9844  9864  9865  9912  9913  9914  9915  9943  9957  9998  \n",
            "user_id                                                              \n",
            "3         NaN   NaN   NaN   NaN   NaN   NaN   NaN   NaN   NaN   NaN  \n",
            "4         NaN   NaN   NaN   NaN   NaN   NaN   NaN   NaN   NaN   NaN  \n",
            "7         NaN   NaN   NaN   NaN   NaN   NaN   NaN   NaN   NaN   NaN  \n",
            "10        NaN   NaN   NaN   NaN   NaN   NaN   NaN   NaN   NaN   NaN  \n",
            "11        NaN   NaN   NaN   NaN   NaN   NaN   NaN   NaN   NaN   NaN  \n",
            "\n",
            "[5 rows x 677 columns]\n"
          ]
        }
      ],
      "source": [
        "user_item_matrix = merged_df.pivot_table(index='user_id', columns='book_id', values='rating')\n",
        "print(user_item_matrix.head())"
      ]
    },
    {
      "cell_type": "markdown",
      "metadata": {
        "id": "IAbp0Hr1wl1m"
      },
      "source": [
        "# Content-based Filtering"
      ]
    },
    {
      "cell_type": "code",
      "execution_count": null,
      "metadata": {
        "colab": {
          "base_uri": "https://localhost:8080/"
        },
        "id": "3yDK--iIAXQY",
        "outputId": "445c4c90-fb4f-43c3-9313-505ee0f312d2"
      },
      "outputs": [
        {
          "name": "stdout",
          "output_type": "stream",
          "text": [
            "[[1. 0. 0. 0. 0.]\n",
            " [0. 1. 0. 0. 0.]\n",
            " [0. 0. 1. 0. 0.]\n",
            " [0. 0. 0. 1. 0.]\n",
            " [0. 0. 0. 0. 1.]]\n"
          ]
        }
      ],
      "source": [
        "tfidf = TfidfVectorizer(stop_words='english')\n",
        "tfidf_matrix = tfidf.fit_transform(books_df['combined_features'])\n",
        "\n",
        "cosine_sim = linear_kernel(tfidf_matrix, tfidf_matrix)\n",
        "\n",
        "print(cosine_sim[:5, :5])"
      ]
    },
    {
      "cell_type": "code",
      "execution_count": null,
      "metadata": {
        "colab": {
          "base_uri": "https://localhost:8080/"
        },
        "id": "8BCnOy9OmTGo",
        "outputId": "2d0d0fca-ab1e-4dee-a454-da414c3d9cde"
      },
      "outputs": [
        {
          "name": "stdout",
          "output_type": "stream",
          "text": [
            "   id  book_id  best_book_id  work_id  books_count       isbn        isbn13  \\\n",
            "0   1  2767052       2767052  2792775          272  439023483  9.780439e+12   \n",
            "\n",
            "           authors  original_publication_year    original_title  ...  \\\n",
            "0  Suzanne Collins                       2008  The Hunger Games  ...   \n",
            "\n",
            "  work_ratings_count work_text_reviews_count  ratings_1  ratings_2  ratings_3  \\\n",
            "0            4942365                  155254      66715     127936     560092   \n",
            "\n",
            "   ratings_4  ratings_5                                          image_url  \\\n",
            "0    1481305    2706317  https://images.gr-assets.com/books/1447303603m...   \n",
            "\n",
            "                                     small_image_url  \\\n",
            "0  https://images.gr-assets.com/books/1447303603s...   \n",
            "\n",
            "                                   combined_features  \n",
            "0  the hunger games (the hunger games, #1) suzann...  \n",
            "\n",
            "[1 rows x 24 columns]\n"
          ]
        }
      ],
      "source": [
        "book_id = 2767052\n",
        "print(books_df[books_df['book_id'] == book_id])"
      ]
    },
    {
      "cell_type": "code",
      "execution_count": null,
      "metadata": {
        "colab": {
          "base_uri": "https://localhost:8080/"
        },
        "id": "win6fXeSBkUv",
        "outputId": "ebe03c93-3ef5-4b7f-dc83-52fa617aaa8d"
      },
      "outputs": [
        {
          "name": "stdout",
          "output_type": "stream",
          "text": [
            "       book_id                                              title  \\\n",
            "506    7938275  The Hunger Games Trilogy Boxset (The Hunger Ga...   \n",
            "16     6148028               Catching Fire (The Hunger Games, #2)   \n",
            "19     7260188                  Mockingjay (The Hunger Games, #3)   \n",
            "1819   5047880                                  Hunger (Gone, #2)   \n",
            "3114     14384   A Hunger Like No Other (Immortals After Dark #2)   \n",
            "5945    215540                  The Quillan Games (Pendragon, #7)   \n",
            "2324     18630                  The Player of Games (Culture, #2)   \n",
            "4743     49176                                  Games People Play   \n",
            "8576   8046680  The Girl Who Was on Fire: Your Favorite Author...   \n",
            "5662  25065629                      Hunger Makes Me a Modern Girl   \n",
            "\n",
            "                                                authors  \n",
            "506                                     Suzanne Collins  \n",
            "16                                      Suzanne Collins  \n",
            "19                                      Suzanne Collins  \n",
            "1819                                     Michael  Grant  \n",
            "3114                                       Kresley Cole  \n",
            "5945                                       D.J. MacHale  \n",
            "2324                                      Iain M. Banks  \n",
            "4743                                         Eric Berne  \n",
            "8576  Leah Wilson, Jennifer Lynn Barnes, Mary Borsel...  \n",
            "5662                                  Carrie Brownstein  \n"
          ]
        }
      ],
      "source": [
        "def get_content_based_recommendations(book_id, cosine_sim, top_n=10):\n",
        "    if book_id not in books_df['book_id'].values:\n",
        "        print(f\"Book ID {book_id} not found in books_df\")\n",
        "        return pd.DataFrame()\n",
        "\n",
        "    idx = books_df[books_df['book_id'] == book_id].index[0]\n",
        "    cosine_similarities = cosine_sim[idx]\n",
        "    similar_indices = cosine_similarities.argsort()[-top_n-1:-1][::-1]\n",
        "\n",
        "    return books_df.iloc[similar_indices]\n",
        "\n",
        "\n",
        "recommended_books = get_content_based_recommendations(book_id=2767052, cosine_sim=cosine_sim, top_n=10)\n",
        "print(recommended_books[['book_id', 'title', 'authors']])"
      ]
    },
    {
      "cell_type": "markdown",
      "metadata": {
        "id": "3zuZxntJGgU3"
      },
      "source": [
        "# Collaborative Filtering"
      ]
    },
    {
      "cell_type": "code",
      "execution_count": null,
      "metadata": {
        "colab": {
          "base_uri": "https://localhost:8080/"
        },
        "id": "kEM8gVOVURuX",
        "outputId": "c2929f04-906e-41ea-d185-9ea891cc511d"
      },
      "outputs": [
        {
          "name": "stdout",
          "output_type": "stream",
          "text": [
            "Precision at k=10: 0.19\n"
          ]
        }
      ],
      "source": [
        "dataset = Dataset()\n",
        "dataset.fit(ratings_long['user_id'], ratings_long['book_id'])\n",
        "\n",
        "(interactions, _) = dataset.build_interactions([(row['user_id'], row['book_id']) for idx, row in ratings_long.iterrows()])\n",
        "\n",
        "model = LightFM(loss='warp')\n",
        "model.fit(interactions, epochs=30, num_threads=2)\n",
        "\n",
        "def evaluate_model(model, interactions):\n",
        "    precision = precision_at_k(model, interactions, k=10).mean()\n",
        "    print(f'Precision at k=10: {precision:.2f}')\n",
        "\n",
        "evaluate_model(model, interactions)"
      ]
    },
    {
      "cell_type": "code",
      "execution_count": null,
      "metadata": {
        "colab": {
          "base_uri": "https://localhost:8080/"
        },
        "id": "ga3Dkpemqsqh",
        "outputId": "412ea7ab-7d58-4e16-b6d7-706004ae411d"
      },
      "outputs": [
        {
          "name": "stdout",
          "output_type": "stream",
          "text": [
            "Warning: Fewer than 10 recommendations found.\n",
            "Top 5 Book Recommendations for User 14:\n",
            "\n",
            "\n",
            "Top Book Recommendations:\n",
            "\n",
            "Book ID: 33\n",
            "Title: The Lord of the Rings (The Lord of the Rings, #1-3)\n",
            "Author(s): J.R.R. Tolkien\n",
            "----------------------------------------\n",
            "Book ID: 28\n",
            "Title: Notes from a Small Island\n",
            "Author(s): Bill Bryson\n",
            "----------------------------------------\n",
            "Book ID: 24\n",
            "Title: In a Sunburned Country\n",
            "Author(s): Bill Bryson\n",
            "----------------------------------------\n",
            "Book ID: 105\n",
            "Title: Chapterhouse: Dune (Dune Chronicles #6)\n",
            "Author(s): Frank Herbert\n",
            "----------------------------------------\n",
            "Book ID: 29\n",
            "Title: The Mother Tongue: English and How It Got That Way\n",
            "Author(s): Bill Bryson\n",
            "----------------------------------------\n"
          ]
        }
      ],
      "source": [
        "def get_collaborative_recommendations(model, user_id, interactions, n=10):\n",
        "    num_items = interactions.shape[1]\n",
        "    scores = model.predict(user_id, np.arange(num_items))\n",
        "    item_scores = list(enumerate(scores))\n",
        "    top_items = sorted(item_scores, key=lambda x: x[1], reverse=True)\n",
        "    top_n_items = [item[0] for item in top_items[:n]]\n",
        "    return top_n_items\n",
        "\n",
        "def print_user_friendly_recommendations(df):\n",
        "    if df.empty:\n",
        "        print(\"No recommendations found.\")\n",
        "        return\n",
        "    print(\"\\nTop Book Recommendations:\\n\")\n",
        "    for index, row in df.iterrows():\n",
        "        print(f\"Book ID: {row['book_id']}\")\n",
        "        print(f\"Title: {row['title']}\")\n",
        "        print(f\"Author(s): {row['authors']}\")\n",
        "        print(\"-\" * 40)\n",
        "\n",
        "user_id = 14\n",
        "top_n_books = get_collaborative_recommendations(model, user_id, interactions, n=10)\n",
        "recommended_books = books_df[books_df['book_id'].isin(top_n_books)]\n",
        "\n",
        "k = len(recommended_books)\n",
        "if len(recommended_books) < 10:\n",
        "    print(\"Warning: Fewer than 10 recommendations found.\")\n",
        "\n",
        "k = min(10, len(recommended_books))\n",
        "print(f\"Top {k} Book Recommendations for User {user_id}:\\n\")\n",
        "print_user_friendly_recommendations(recommended_books)"
      ]
    },
    {
      "cell_type": "markdown",
      "metadata": {
        "id": "hPfGtN9Bf6zZ"
      },
      "source": [
        "# Hybrid Recommendation System"
      ]
    },
    {
      "cell_type": "code",
      "execution_count": null,
      "metadata": {
        "colab": {
          "base_uri": "https://localhost:8080/"
        },
        "id": "s5ikEM5Mkrbn",
        "outputId": "5e299231-43fb-4866-b42b-0948004f31fc"
      },
      "outputs": [
        {
          "name": "stdout",
          "output_type": "stream",
          "text": [
            "\n",
            "Top Book Recommendations:\n",
            "\n",
            "Book ID: 2767052\n",
            "Title: The Hunger Games (The Hunger Games, #1)\n",
            "Authors: Suzanne Collins\n",
            "--------------------------------------------------\n",
            "Book ID: 6148028\n",
            "Title: Catching Fire (The Hunger Games, #2)\n",
            "Authors: Suzanne Collins\n",
            "--------------------------------------------------\n",
            "Book ID: 7260188\n",
            "Title: Mockingjay (The Hunger Games, #3)\n",
            "Authors: Suzanne Collins\n",
            "--------------------------------------------------\n",
            "Book ID: 6\n",
            "Title: Harry Potter and the Goblet of Fire (Harry Potter, #4)\n",
            "Authors: J.K. Rowling, Mary GrandPré\n",
            "--------------------------------------------------\n",
            "Book ID: 21\n",
            "Title: A Short History of Nearly Everything\n",
            "Authors: Bill Bryson\n",
            "--------------------------------------------------\n",
            "Book ID: 7938275\n",
            "Title: The Hunger Games Trilogy Boxset (The Hunger Games, #1-3)\n",
            "Authors: Suzanne Collins\n",
            "--------------------------------------------------\n",
            "Book ID: 5047880\n",
            "Title: Hunger (Gone, #2)\n",
            "Authors: Michael  Grant\n",
            "--------------------------------------------------\n",
            "Book ID: 18630\n",
            "Title: The Player of Games (Culture, #2)\n",
            "Authors: Iain M. Banks\n",
            "--------------------------------------------------\n",
            "Book ID: 14384\n",
            "Title: A Hunger Like No Other (Immortals After Dark #2)\n",
            "Authors: Kresley Cole\n",
            "--------------------------------------------------\n",
            "Book ID: 49176\n",
            "Title: Games People Play\n",
            "Authors: Eric Berne\n",
            "--------------------------------------------------\n",
            "Book ID: 215540\n",
            "Title: The Quillan Games (Pendragon, #7)\n",
            "Authors: D.J. MacHale\n",
            "--------------------------------------------------\n",
            "Book ID: 8046680\n",
            "Title: The Girl Who Was on Fire: Your Favorite Authors on Suzanne Collins' Hunger Games Trilogy\n",
            "Authors: Leah Wilson, Jennifer Lynn Barnes, Mary Borsellino, Sarah Rees Brennan, Terri  Clark, Bree Despain, Adrienne Kress, Sarah Darer Littman, Cara Lockwood, Elizabeth M. Rees, Carrie Ryan, Ned Vizzini, Lili Wilkinson, Blythe Woolston\n",
            "--------------------------------------------------\n"
          ]
        }
      ],
      "source": [
        "def hybrid_recommendations(user_id, book_id, model, interactions, cosine_sim, top_n=10):\n",
        "    collab_recs = get_collaborative_recommendations(model, user_id, interactions, top_n)\n",
        "    content_recs = get_content_based_recommendations(book_id, cosine_sim, top_n)\n",
        "    if 'book_id' not in content_recs.columns:\n",
        "        print(\"Content recommendations are missing 'book_id' column\")\n",
        "        return pd.DataFrame()\n",
        "\n",
        "    hybrid_recs = set(collab_recs) | set(content_recs['book_id'])\n",
        "    return books_df[books_df['book_id'].isin(hybrid_recs)]\n",
        "\n",
        "\n",
        "def print_user_friendly_recommendations(df):\n",
        "    print(\"\\nTop Book Recommendations:\\n\")\n",
        "    for index, row in df.iterrows():\n",
        "        print(f\"Book ID: {row['book_id']}\")\n",
        "        print(f\"Title: {row['title']}\")\n",
        "        print(f\"Authors: {row['authors']}\")\n",
        "        print(\"-\" * 50)\n",
        "\n",
        "\n",
        "hybrid_recommendations_df = hybrid_recommendations(user_id=1, book_id=2767052, model=model, interactions=interactions, cosine_sim=cosine_sim, top_n=10)\n",
        "print_user_friendly_recommendations(hybrid_recommendations_df)"
      ]
    }
  ],
  "metadata": {
    "colab": {
      "provenance": []
    },
    "kernelspec": {
      "display_name": "Python 3",
      "name": "python3"
    },
    "language_info": {
      "name": "python"
    }
  },
  "nbformat": 4,
  "nbformat_minor": 0
}
